{
 "cells": [
  {
   "cell_type": "code",
   "execution_count": 1,
   "id": "b3e80f82-81e6-4f52-9204-1bd002ecfc3a",
   "metadata": {},
   "outputs": [
    {
     "name": "stdout",
     "output_type": "stream",
     "text": [
      "Hello Data science world\n"
     ]
    }
   ],
   "source": [
    "print(\"Hello Data science world\")"
   ]
  },
  {
   "cell_type": "code",
   "execution_count": 2,
   "id": "08fb6058-5ee5-4236-beae-23995ce79853",
   "metadata": {},
   "outputs": [
    {
     "name": "stdout",
     "output_type": "stream",
     "text": [
      "Manu\n"
     ]
    }
   ],
   "source": [
    "print(\"Manu\")"
   ]
  },
  {
   "cell_type": "code",
   "execution_count": 3,
   "id": "b50f06a6-254f-4623-a7aa-59b0b0cab2a7",
   "metadata": {},
   "outputs": [
    {
     "name": "stdout",
     "output_type": "stream",
     "text": [
      "tanu\n"
     ]
    }
   ],
   "source": [
    "print(\"tanu\")"
   ]
  },
  {
   "cell_type": "markdown",
   "id": "2986d45c-f9eb-4eac-9de8-68c1661ed066",
   "metadata": {},
   "source": [
    "Python is a programming language and it is widely used language in data science.\n",
    "\n",
    "python is an easy and case sensitive language"
   ]
  },
  {
   "cell_type": "code",
   "execution_count": null,
   "id": "c21a5bc2-e5a9-497a-9346-f3a0a1d39902",
   "metadata": {},
   "outputs": [],
   "source": []
  },
  {
   "cell_type": "code",
   "execution_count": 7,
   "id": "646c4b2e-9c32-4672-ace9-1e8ddd078c0a",
   "metadata": {},
   "outputs": [
    {
     "data": {
      "text/plain": [
       "16"
      ]
     },
     "execution_count": 7,
     "metadata": {},
     "output_type": "execute_result"
    }
   ],
   "source": [
    "9+7\n"
   ]
  },
  {
   "cell_type": "code",
   "execution_count": 5,
   "id": "4a424b69-792e-4a8d-95ed-4de64789d777",
   "metadata": {},
   "outputs": [
    {
     "data": {
      "text/plain": [
       "2"
      ]
     },
     "execution_count": 5,
     "metadata": {},
     "output_type": "execute_result"
    }
   ],
   "source": [
    "26-24"
   ]
  },
  {
   "cell_type": "code",
   "execution_count": 6,
   "id": "24673454-0925-4a51-ae65-4ce1a655a92a",
   "metadata": {},
   "outputs": [
    {
     "data": {
      "text/plain": [
       "5.0"
      ]
     },
     "execution_count": 6,
     "metadata": {},
     "output_type": "execute_result"
    }
   ],
   "source": [
    "25/5"
   ]
  },
  {
   "cell_type": "code",
   "execution_count": null,
   "id": "447cf5c7-de2f-4fb8-9dfb-8b977041b771",
   "metadata": {},
   "outputs": [],
   "source": []
  },
  {
   "cell_type": "code",
   "execution_count": 7,
   "id": "1fa2eba8-cedf-4921-96fe-1a1319bb95da",
   "metadata": {},
   "outputs": [
    {
     "data": {
      "text/plain": [
       "624"
      ]
     },
     "execution_count": 7,
     "metadata": {},
     "output_type": "execute_result"
    }
   ],
   "source": [
    "24*26"
   ]
  },
  {
   "cell_type": "code",
   "execution_count": 8,
   "id": "4bc46d14-cdd7-4a30-9683-98c230262c84",
   "metadata": {},
   "outputs": [
    {
     "data": {
      "text/plain": [
       "48"
      ]
     },
     "execution_count": 8,
     "metadata": {},
     "output_type": "execute_result"
    }
   ],
   "source": [
    "24+26-2"
   ]
  },
  {
   "cell_type": "code",
   "execution_count": null,
   "id": "b8d98b28-b79e-4e8b-bb35-ebd843533538",
   "metadata": {},
   "outputs": [],
   "source": [
    "add a cell above the current cell- ESC+A\n",
    "\n",
    "add a cell below the current cell- ESC+B\n",
    "\n",
    "Delete the selected cell- ESC+D+D\n"
   ]
  },
  {
   "cell_type": "code",
   "execution_count": null,
   "id": "5ac38e06-f54d-400c-9433-7dc3615f6008",
   "metadata": {},
   "outputs": [],
   "source": []
  }
 ],
 "metadata": {
  "kernelspec": {
   "display_name": "Python 3 (ipykernel)",
   "language": "python",
   "name": "python3"
  },
  "language_info": {
   "codemirror_mode": {
    "name": "ipython",
    "version": 3
   },
   "file_extension": ".py",
   "mimetype": "text/x-python",
   "name": "python",
   "nbconvert_exporter": "python",
   "pygments_lexer": "ipython3",
   "version": "3.12.4"
  }
 },
 "nbformat": 4,
 "nbformat_minor": 5
}
